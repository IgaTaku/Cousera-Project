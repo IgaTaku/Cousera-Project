{
 "cells": [
  {
   "cell_type": "markdown",
   "id": "d358558d-e1a5-4516-83e3-0cebae8ff30c",
   "metadata": {},
   "source": [
    "# Data Science Tools and Ecosystem"
   ]
  },
  {
   "cell_type": "markdown",
   "id": "51ac2d02-168f-46bf-8307-511e15e20809",
   "metadata": {},
   "source": [
    "**Objectives**:\n",
    "- List those popular languages among Data Scientists.\n",
    "- List the well-used languages in Data Science.\n",
    "- Demonstration of some (arithmetic) operations in Python on Jupyter Notebook.\n",
    "- Demonstration of some method, like making a table inside a cell on Jupyter Notebook.\n"
   ]
  },
  {
   "cell_type": "markdown",
   "id": "51a9936f-3b48-4403-bdc8-102509056182",
   "metadata": {},
   "source": [
    "In this note, we summarize tools and ecosystem for Data Science."
   ]
  },
  {
   "cell_type": "markdown",
   "id": "3620f049-c5bf-4abc-b794-5c5419a44ff1",
   "metadata": {},
   "source": [
    "Some of the popular languages for Data Scientists are:\n",
    "1. Python\n",
    "1. R\n",
    "1. Java"
   ]
  },
  {
   "cell_type": "markdown",
   "id": "480dc4e0-1181-4a26-ac2d-c5c400645357",
   "metadata": {},
   "source": [
    "Some of the commonly used libraries for Data Scientists include:\n",
    "- NumPy\n",
    "- Pandas\n",
    "- Matplotlib\n",
    "- Seaborn\n",
    "- Plotly"
   ]
  },
  {
   "cell_type": "markdown",
   "id": "0a4a9376-e85c-4622-b003-edeed20fb45b",
   "metadata": {},
   "source": [
    "|Data Science Tools|\n",
    "|---|\n",
    "|Jupyter Lab|\n",
    "|Visual Studio Code|\n",
    "|Eclipse|\n",
    "|Watson Studio|\n",
    "|Google Colab|"
   ]
  },
  {
   "cell_type": "markdown",
   "id": "2d46b9ff-14c0-4f60-971f-05fd7eb5083e",
   "metadata": {},
   "source": [
    "### Below are a few examples of evaluating arithmetic expressions in Python:"
   ]
  },
  {
   "cell_type": "markdown",
   "id": "dbc4bd54-3525-43a4-b563-9511a5ad7090",
   "metadata": {},
   "source": [
    "This is a simple example of arithmetic expression to multiply then add integers:\\\n",
    "(3*4)+5"
   ]
  },
  {
   "cell_type": "code",
   "execution_count": 2,
   "id": "bd3ce624-bbc8-48de-9416-aa21cb835be0",
   "metadata": {},
   "outputs": [
    {
     "data": {
      "text/plain": [
       "17"
      ]
     },
     "execution_count": 2,
     "metadata": {},
     "output_type": "execute_result"
    }
   ],
   "source": [
    "(3*4)+5"
   ]
  },
  {
   "cell_type": "markdown",
   "id": "c04a39cd-b4eb-4c69-8770-f2ab13e438d3",
   "metadata": {},
   "source": [
    "This will convert 200 minutes to hours by dividing by 60:"
   ]
  },
  {
   "cell_type": "code",
   "execution_count": 1,
   "id": "4e7096c0-cd17-46de-98ee-ca590e3ae19d",
   "metadata": {},
   "outputs": [
    {
     "name": "stdout",
     "output_type": "stream",
     "text": [
      "3\n"
     ]
    }
   ],
   "source": [
    "min = 200\n",
    "hour = min//60\n",
    "\n",
    "print(hour)\n"
   ]
  },
  {
   "cell_type": "markdown",
   "id": "01597cfc-4820-4291-a8aa-006d0cfa4934",
   "metadata": {},
   "source": [
    "## Author\n",
    "Takuya Igami"
   ]
  },
  {
   "cell_type": "code",
   "execution_count": null,
   "id": "96a54465-404c-4761-8495-05876138ea07",
   "metadata": {},
   "outputs": [],
   "source": []
  }
 ],
 "metadata": {
  "kernelspec": {
   "display_name": "Python 3 (ipykernel)",
   "language": "python",
   "name": "python3"
  },
  "language_info": {
   "codemirror_mode": {
    "name": "ipython",
    "version": 3
   },
   "file_extension": ".py",
   "mimetype": "text/x-python",
   "name": "python",
   "nbconvert_exporter": "python",
   "pygments_lexer": "ipython3",
   "version": "3.11.2"
  }
 },
 "nbformat": 4,
 "nbformat_minor": 5
}
